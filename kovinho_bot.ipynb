{
  "nbformat": 4,
  "nbformat_minor": 0,
  "metadata": {
    "colab": {
      "provenance": [],
      "authorship_tag": "ABX9TyMI7tyn8ziaJOE98rVZkbnA",
      "include_colab_link": true
    },
    "kernelspec": {
      "name": "python3",
      "display_name": "Python 3"
    },
    "language_info": {
      "name": "python"
    }
  },
  "cells": [
    {
      "cell_type": "markdown",
      "metadata": {
        "id": "view-in-github",
        "colab_type": "text"
      },
      "source": [
        "<a href=\"https://colab.research.google.com/github/AlmeidaNets/Study/blob/main/kovinho_bot.ipynb\" target=\"_parent\"><img src=\"https://colab.research.google.com/assets/colab-badge.svg\" alt=\"Open In Colab\"/></a>"
      ]
    },
    {
      "cell_type": "code",
      "execution_count": 1,
      "metadata": {
        "colab": {
          "base_uri": "https://localhost:8080/"
        },
        "id": "MjV6kJPZl-bn",
        "outputId": "67f018c8-75fa-4969-ec21-6a52bce9efe9"
      },
      "outputs": [
        {
          "output_type": "stream",
          "name": "stdout",
          "text": [
            "Collecting googlesearch-python\n",
            "  Downloading googlesearch_python-1.3.0-py3-none-any.whl.metadata (3.4 kB)\n",
            "Requirement already satisfied: beautifulsoup4>=4.9 in /usr/local/lib/python3.11/dist-packages (from googlesearch-python) (4.13.3)\n",
            "Requirement already satisfied: requests>=2.20 in /usr/local/lib/python3.11/dist-packages (from googlesearch-python) (2.32.3)\n",
            "Requirement already satisfied: soupsieve>1.2 in /usr/local/lib/python3.11/dist-packages (from beautifulsoup4>=4.9->googlesearch-python) (2.6)\n",
            "Requirement already satisfied: typing-extensions>=4.0.0 in /usr/local/lib/python3.11/dist-packages (from beautifulsoup4>=4.9->googlesearch-python) (4.12.2)\n",
            "Requirement already satisfied: charset-normalizer<4,>=2 in /usr/local/lib/python3.11/dist-packages (from requests>=2.20->googlesearch-python) (3.4.1)\n",
            "Requirement already satisfied: idna<4,>=2.5 in /usr/local/lib/python3.11/dist-packages (from requests>=2.20->googlesearch-python) (3.10)\n",
            "Requirement already satisfied: urllib3<3,>=1.21.1 in /usr/local/lib/python3.11/dist-packages (from requests>=2.20->googlesearch-python) (2.3.0)\n",
            "Requirement already satisfied: certifi>=2017.4.17 in /usr/local/lib/python3.11/dist-packages (from requests>=2.20->googlesearch-python) (2025.1.31)\n",
            "Downloading googlesearch_python-1.3.0-py3-none-any.whl (5.6 kB)\n",
            "Installing collected packages: googlesearch-python\n",
            "Successfully installed googlesearch-python-1.3.0\n"
          ]
        }
      ],
      "source": [
        "pip install googlesearch-python"
      ]
    },
    {
      "cell_type": "code",
      "source": [
        "import time\n",
        "import requests\n",
        "from googlesearch import search\n",
        "\n",
        "# Configurações do Telegram\n",
        "TELEGRAM_BOT_TOKEN = \"7816657588:AAEYKMqLwj1yUUk1djXb8MpoVnWwCUry--g\"\n",
        "TELEGRAM_CHAT_ID = \"6584187221\"\n",
        "\n",
        "# Palavras-chave para buscar\n",
        "KEYWORDS = [\"fraude locação de veículos\", \"roubo de carro\", \"golpe aluguel carro\",\"locação de veiculo\", \"kovi\", \"aluguel veiculo\", \"veiculo barato\",\n",
        "            \"motorista de aplicativo\", \"carro de app\", \"carro de aplicativo\", \"desmanche\", \"autopeças barata\", \"alugue veiculo\",\"policia encontra desmanche\", \"policia estoura desmanche\",\n",
        "           \"desmanche ilegal\"]\n",
        "\n",
        "# Intervalo de busca (em segundos)\n",
        "INTERVAL = 86400  # 24 horas\n",
        "\n",
        "# Lista para armazenar links já enviados (evita repetição)\n",
        "sent_links = set()\n",
        "\n",
        "def send_telegram_message(message):\n",
        "    \"\"\"Envia uma mensagem para o Telegram.\"\"\"\n",
        "    url = f\"https://api.telegram.org/bot{TELEGRAM_BOT_TOKEN}/sendMessage\"\n",
        "    payload = {\"chat_id\": TELEGRAM_CHAT_ID, \"text\": message}\n",
        "    response = requests.post(url, json=payload)\n",
        "    return response.status_code == 200\n",
        "\n",
        "def search_google():\n",
        "    \"\"\"Realiza a busca no Google e notifica se encontrar algo novo.\"\"\"\n",
        "    for keyword in KEYWORDS:\n",
        "        print(f\"🔎 Buscando por: {keyword}\")\n",
        "        try:\n",
        "            for result in search(keyword, num_results=5):\n",
        "                if result not in sent_links:\n",
        "                    message = f\"🔍 Nova ocorrência encontrada para '{keyword}':\\n{result}\"\n",
        "                    if send_telegram_message(message):\n",
        "                        sent_links.add(result)\n",
        "                        print(f\"✅ Notificação enviada: {result}\")\n",
        "                    else:\n",
        "                        print(\"⚠️ Erro ao enviar notificação.\")\n",
        "        except Exception as e:\n",
        "            print(f\"❌ Erro na busca: {e}\")\n",
        "\n",
        "if __name__ == \"__main__\":\n",
        "    while True:\n",
        "        search_google()\n",
        "        print(f\"⏳ Aguardando {INTERVAL / 60} minutos para próxima busca...\\n\")\n",
        "        time.sleep(INTERVAL)"
      ],
      "metadata": {
        "colab": {
          "base_uri": "https://localhost:8080/"
        },
        "id": "BAc7KUZpmIvI",
        "outputId": "d3a595cb-4944-45e2-9427-b048f1ec0671"
      },
      "execution_count": null,
      "outputs": [
        {
          "output_type": "stream",
          "name": "stdout",
          "text": [
            "🔎 Buscando por: fraude locação de veículos\n",
            "✅ Notificação enviada: https://www.infosistemas.com.br/como-reduzir-o-indice-de-fraudes-nas-locadoras-de-veiculos/\n",
            "✅ Notificação enviada: https://www.jusbrasil.com.br/jurisprudencia/busca?q=fraude+em+contrato+de+presta%C3%A7%C3%A3o+de+servi%C3%A7o+de+aluguel+de+ve%C3%ADculo\n",
            "✅ Notificação enviada: https://www.cnnbrasil.com.br/nacional/pf-apura-suposta-fraude-no-aluguel-de-viaturas-em-r-33-milhoes/\n",
            "✅ Notificação enviada: https://brick.so/blog/apropriacao-indebita-de-carros-locados-como-garantir-seguranca-para-locadoras-de-veiculos\n",
            "✅ Notificação enviada: https://noticias.uol.com.br/ultimas-noticias/agencia-estado/2024/12/19/locadora-de-carro-investigada-por-suspeita-de-fraude-em-cota-parlamentar-recebeu-r-841-mil.htm\n",
            "🔎 Buscando por: roubo de carro\n",
            "✅ Notificação enviada: https://pt.wikipedia.org/wiki/Roubo_de_carro\n",
            "✅ Notificação enviada: https://www.gov.br/pt-br/servicos/consultar-veiculo\n",
            "✅ Notificação enviada: https://ssp.rs.gov.br/consulta-roubo-furto-de-veiculos\n",
            "✅ Notificação enviada: https://blog.portoseguro.com.br/o-que-fazer-em-caso-de-furto-ou-roubo-de-carro\n",
            "✅ Notificação enviada: https://www.minutoseguros.com.br/blog/diferenca-entre-roubo-e-furto-de-veiculo/\n",
            "🔎 Buscando por: golpe aluguel carro\n",
            "✅ Notificação enviada: https://www.youtube.com/watch?v=2BSIvax9im0\n",
            "✅ Notificação enviada: https://www.youtube.com/watch?v=kiXLVE1UixM\n",
            "✅ Notificação enviada: https://www.instagram.com/renatocunha_re/reel/C_kuEYOOXNv/\n",
            "✅ Notificação enviada: https://g1.globo.com/sp/vale-do-paraiba-regiao/noticia/2022/02/26/criminosos-aplicam-golpe-com-aluguel-de-carros-em-sao-jose-dos-campos.ghtml\n",
            "✅ Notificação enviada: https://www.metropoles.com/distrito-federal/ladroes-de-carros-de-locadoras-ganhavam-ate-r-3-mil-por-veiculo\n",
            "🔎 Buscando por: locação de veiculo\n",
            "✅ Notificação enviada: https://www.localiza.com/brasil/pt-br\n",
            "✅ Notificação enviada: https://www.movida.com.br/\n",
            "✅ Notificação enviada: https://www.rentcars.com/pt-br/\n",
            "✅ Notificação enviada: https://www.kayak.com.br/cars\n",
            "✅ Notificação enviada: https://www.unidas.com.br/para-voce/reservas-nacionais\n",
            "🔎 Buscando por: kovi\n",
            "✅ Notificação enviada: https://kovihair.com/\n",
            "✅ Notificação enviada: https://www.kovifabrics.com/?srsltid=AfmBOoqd_D76pLWqOHUUYkLvV37lJ2Uxsf8UqxXkTuVyGqDkVBHq8A3r\n",
            "✅ Notificação enviada: \n",
            "✅ Notificação enviada: https://www.google.com/search?num=7\n",
            "✅ Notificação enviada: https://www.instagram.com/kovihair/?hl=en\n",
            "🔎 Buscando por: aluguel veiculo\n",
            "🔎 Buscando por: veiculo barato\n",
            "✅ Notificação enviada: https://sobaratoveiculos.com.br/\n",
            "✅ Notificação enviada: https://www.ebay.com/shop/carros-baratos?_nkw=carros+baratos\n",
            "✅ Notificação enviada: https://www.olx.com.br/autos-e-pecas/carros-vans-e-utilitarios\n",
            "✅ Notificação enviada: https://autoesporte.globo.com/setor-automotivo/mercado-automotivo/noticia/2025/01/10-carros-mais-baratos-brasil-2025.ghtml\n",
            "✅ Notificação enviada: https://motor1.uol.com.br/features/703219/carros-mais-baratos-brasil-2024/\n",
            "🔎 Buscando por: motorista de aplicativo\n",
            "✅ Notificação enviada: /search?q=motorista+de+aplicativo\n",
            "✅ Notificação enviada: https://motoristadeapp.movida.com.br/\n",
            "✅ Notificação enviada: https://www.uber.com/br/pt-br/drive/\n",
            "✅ Notificação enviada: https://99app.com/motorista/\n",
            "✅ Notificação enviada: https://play.google.com/store/apps/details?id=com.app99.driver&hl=en_US\n",
            "🔎 Buscando por: carro de app\n",
            "✅ Notificação enviada: /search?q=carro+de+app\n",
            "✅ Notificação enviada: http://t0.gstatic.com/licensed-image?q=tbn:ANd9GcTM8tlMo9OSL_hdj71kiHXQtKer1AbHAJdGiZin2Dl8ErqOMqpreKOnOT3fZv1pvYRl\n",
            "✅ Notificação enviada: https://play.google.com/store/apps/details?id=com.taxis99&hl=pt_PT\n",
            "✅ Notificação enviada: https://apps.apple.com/us/app/carro-home/id1481436593\n",
            "✅ Notificação enviada: https://play.google.com/store/apps/details?id=sinet.startup.inDriver&hl=pt_BR\n",
            "🔎 Buscando por: carro de aplicativo\n",
            "✅ Notificação enviada: /search?q=carro+de+aplicativo\n",
            "✅ Notificação enviada: https://www.uber.com/\n",
            "✅ Notificação enviada: https://99app.com/motorista/solucoes-para-veiculos/\n",
            "✅ Notificação enviada: https://www.metropoles.com/distrito-federal/na-mira/comando-vermelho-proibe-carro-de-app-em-mais-locais-se-entrar-morre\n",
            "🔎 Buscando por: desmanche\n",
            "✅ Notificação enviada: https://www.spanishdict.com/translate/desmanche\n",
            "✅ Notificação enviada: https://tureng.com/en/spanish-english/desmanche\n",
            "✅ Notificação enviada: https://en.pons.com/translate/portuguese-english/desmanche\n",
            "✅ Notificação enviada: https://context.reverso.net/translation/portuguese-english/desmanche\n",
            "🔎 Buscando por: autopeças barata\n",
            "✅ Notificação enviada: https://www.autopecasonline24.pt/\n",
            "✅ Notificação enviada: https://www.pecasauto24.pt/\n",
            "✅ Notificação enviada: https://www.hipervarejo.com.br/autopecas?srsltid=AfmBOoqSSyINaMLMW9Q5NeShRcLgtr3fz7g2DxMsmGncQkTY57NMzJGU\n",
            "✅ Notificação enviada: https://www.jocar.com.br/\n",
            "✅ Notificação enviada: https://www.autopecas-online.pt/\n",
            "🔎 Buscando por: alugue veiculo\n",
            "✅ Notificação enviada: /search?num=7\n",
            "🔎 Buscando por: policia encontra desmanche\n",
            "✅ Notificação enviada: /search?q=policia+encontra+desmanche\n",
            "✅ Notificação enviada: https://www.facebook.com/BrasilUrgente/videos/pol%C3%ADcia-encontra-desmanche-de-motos-com-pe%C3%A7as-manchadas-de-sangue/1576271082956988/\n",
            "✅ Notificação enviada: https://g1.globo.com/rj/rio-de-janeiro/noticia/2025/02/06/policia-encontra-desmanche-de-veiculos-no-complexo-do-chapadao.ghtml\n",
            "✅ Notificação enviada: https://oglobo.globo.com/rio/noticia/2024/11/22/policia-encontra-desmanche-de-veiculos-roubados-na-zona-norte-do-rio-proximo-ao-lins.ghtml\n",
            "✅ Notificação enviada: https://www.cnnbrasil.com.br/nacional/sudeste/sp/policia-militar-descobre-desmanche-de-veiculos-e-prende-sete-pessoas-em-sp/\n",
            "🔎 Buscando por: policia estoura desmanche\n",
            "✅ Notificação enviada: https://m.facebook.com/story.php?story_fbid=1044934704332800&id=100064488408085\n",
            "✅ Notificação enviada: https://www.youtube.com/watch?v=o8iuu9baU3U\n",
            "✅ Notificação enviada: https://www.band.uol.com.br/noticias/brasil-urgente/videos/policia-estoura-desmanche-em-sao-paulo-17269848\n",
            "✅ Notificação enviada: https://www.facebook.com/Juniormoscaamparo/videos/pol%C3%ADcia-civil-estoura-desmanche-de-caminh%C3%A3o-na-nossa-regi%C3%A3o-%EF%B8%8F/2257265824627258/\n",
            "✅ Notificação enviada: https://pc.sc.gov.br/?p=21163\n",
            "🔎 Buscando por: desmanche ilegal\n",
            "✅ Notificação enviada: https://vlvadvogados.com/desmanche-de-carros/\n",
            "✅ Notificação enviada: https://www.facebook.com/SindCDV/videos/desmanche-ilegal-%C3%A9-crime-comprar-pe%C3%A7as-de-locais-n%C3%A3o-credenciados-ou-de-vendedor/1833600897470251/\n",
            "✅ Notificação enviada: https://agenciabrasil.ebc.com.br/geral/noticia/2025-02/rio-interdita-estaleiro-que-fazia-desmanche-ilegal-de-navios\n",
            "✅ Notificação enviada: https://www.youtube.com/watch?v=31-GuZ3hbvg\n",
            "⏳ Aguardando 1440.0 minutos para próxima busca...\n",
            "\n"
          ]
        }
      ]
    }
  ]
}